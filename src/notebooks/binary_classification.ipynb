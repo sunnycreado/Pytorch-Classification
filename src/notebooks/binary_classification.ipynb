{
 "cells": [
  {
   "cell_type": "code",
   "execution_count": 2,
   "metadata": {},
   "outputs": [],
   "source": [
    "import torch\n",
    "import pandas as pd\n",
    "import numpy as np\n",
    "import matplotlib.pyplot as plt \n",
    "from torch import nn\n",
    "from sklearn.model_selection import train_test_split"
   ]
  },
  {
   "cell_type": "code",
   "execution_count": 7,
   "metadata": {},
   "outputs": [],
   "source": [
    "device = 'cuda' if torch.cuda.is_available() else 'cpu'"
   ]
  },
  {
   "cell_type": "code",
   "execution_count": 22,
   "metadata": {},
   "outputs": [],
   "source": [
    "data_df = pd.read_excel(r'../../data/custom_data_4.xlsx')"
   ]
  },
  {
   "cell_type": "code",
   "execution_count": 23,
   "metadata": {},
   "outputs": [],
   "source": [
    "X=data_df.iloc[:,:2].to_numpy(dtype=float)\n",
    "y = data_df['Color Class'].to_numpy(dtype=float)"
   ]
  },
  {
   "cell_type": "code",
   "execution_count": 10,
   "metadata": {},
   "outputs": [],
   "source": [
    "from sklearn.datasets import make_circles\n",
    "\n",
    "\n",
    "# Make 1000 samples \n",
    "n_samples = 1000\n",
    "\n",
    "# Create circles\n",
    "X, y = make_circles(n_samples,\n",
    "                    noise=0.03, # a little bit of noise to the dots\n",
    "                    random_state=42) # keep random state so we get the same values"
   ]
  },
  {
   "cell_type": "code",
   "execution_count": null,
   "metadata": {},
   "outputs": [],
   "source": []
  },
  {
   "cell_type": "code",
   "execution_count": 24,
   "metadata": {},
   "outputs": [],
   "source": [
    "X,y = torch.from_numpy(X).type(torch.float).to(device),torch.from_numpy(y).type(torch.float).to(device)"
   ]
  },
  {
   "cell_type": "code",
   "execution_count": 25,
   "metadata": {},
   "outputs": [],
   "source": [
    "X_train,X_test,y_train,y_test = train_test_split(X,y,test_size=0.2,random_state=42)"
   ]
  },
  {
   "cell_type": "code",
   "execution_count": 26,
   "metadata": {},
   "outputs": [
    {
     "data": {
      "text/plain": [
       "(1696, 424, 1696, 424)"
      ]
     },
     "execution_count": 26,
     "metadata": {},
     "output_type": "execute_result"
    }
   ],
   "source": [
    "len(X_train),len(X_test),len(y_train),len(y_test)"
   ]
  },
  {
   "cell_type": "code",
   "execution_count": 27,
   "metadata": {},
   "outputs": [
    {
     "data": {
      "text/plain": [
       "(device(type='cuda', index=0),\n",
       " device(type='cuda', index=0),\n",
       " device(type='cuda', index=0),\n",
       " device(type='cuda', index=0))"
      ]
     },
     "execution_count": 27,
     "metadata": {},
     "output_type": "execute_result"
    }
   ],
   "source": [
    "X_train.device,X_test.device,y_train.device,y_test.device"
   ]
  },
  {
   "cell_type": "code",
   "execution_count": 154,
   "metadata": {},
   "outputs": [],
   "source": [
    "class ModuleArchitecture(nn.Module):\n",
    "    def __init__(self) -> None:\n",
    "        super().__init__()\n",
    "        self.layers=nn.Sequential(\n",
    "            nn.Linear(in_features=2,out_features=10),\n",
    "            nn.Linear(in_features=10,out_features=10),\n",
    "            nn.Linear(in_features=10,out_features=1),\n",
    "            nn.ReLU()\n",
    "            \n",
    "        )\n",
    "    \n",
    "    def forward(self,x):\n",
    "        return self.layers(x)"
   ]
  },
  {
   "cell_type": "code",
   "execution_count": 117,
   "metadata": {},
   "outputs": [
    {
     "name": "stdout",
     "output_type": "stream",
     "text": [
      "CircleModelV2(\n",
      "  (layer_1): Linear(in_features=2, out_features=10, bias=True)\n",
      "  (layer_2): Linear(in_features=10, out_features=10, bias=True)\n",
      "  (layer_3): Linear(in_features=10, out_features=1, bias=True)\n",
      "  (relu): ReLU()\n",
      ")\n"
     ]
    }
   ],
   "source": [
    "# Build model with non-linear activation function\n",
    "from torch import nn\n",
    "class CircleModelV2(nn.Module):\n",
    "    def __init__(self):\n",
    "        super().__init__()\n",
    "        self.layer_1 = nn.Linear(in_features=2, out_features=10)\n",
    "        self.layer_2 = nn.Linear(in_features=10, out_features=10)\n",
    "        self.layer_3 = nn.Linear(in_features=10, out_features=1)\n",
    "        self.relu = nn.ReLU() # <- add in ReLU activation function\n",
    "        # Can also put sigmoid in the model \n",
    "        # This would mean you don't need to use it on the predictions\n",
    "        # self.sigmoid = nn.Sigmoid()\n",
    "\n",
    "    def forward(self, x):\n",
    "      # Intersperse the ReLU activation function between layers\n",
    "       return self.layer_3(self.relu(self.layer_2(self.relu(self.layer_1(x)))))\n",
    "\n",
    "model_0 = CircleModelV2().to(device)\n",
    "print(model_0)"
   ]
  },
  {
   "cell_type": "code",
   "execution_count": 36,
   "metadata": {},
   "outputs": [],
   "source": [
    "model_0 = nn.Sequential(\n",
    "    nn.Linear(in_features=2, out_features=10),\n",
    "    nn.Linear(in_features=10, out_features=10),\n",
    "    nn.Linear(in_features=10, out_features=20),\n",
    "    nn.ReLU(),\n",
    "    nn.Linear(in_features=20, out_features=20),\n",
    "    nn.Linear(in_features=20, out_features=20),\n",
    "    nn.Linear(in_features=20, out_features=20),\n",
    "    nn.ReLU(),\n",
    "    nn.Linear(in_features=20, out_features=20),\n",
    "    nn.Linear(in_features=20, out_features=20),\n",
    "    nn.Linear(in_features=20, out_features=1),\n",
    "    \n",
    ").to(device)"
   ]
  },
  {
   "cell_type": "code",
   "execution_count": 156,
   "metadata": {},
   "outputs": [
    {
     "data": {
      "text/plain": [
       "tensor([[-3.7519e-01,  6.8266e-01],\n",
       "        [ 1.5380e-02,  9.6003e-01],\n",
       "        [-7.0278e-01, -3.1472e-01],\n",
       "        [-2.8525e-01,  9.6638e-01],\n",
       "        [ 4.0242e-01, -7.4375e-01],\n",
       "        [ 6.3228e-01, -5.7111e-01],\n",
       "        [ 8.5607e-01,  5.4994e-01],\n",
       "        [ 1.0034e+00,  1.9028e-01],\n",
       "        [-7.4892e-01, -2.9511e-01],\n",
       "        [ 5.3780e-02,  9.7388e-01],\n",
       "        [-4.7020e-01,  7.8749e-01],\n",
       "        [-2.1686e-01,  7.2418e-01],\n",
       "        [ 9.7026e-01,  3.6688e-01],\n",
       "        [-5.8446e-01, -5.7415e-01],\n",
       "        [-9.1147e-01, -2.4631e-01],\n",
       "        [ 7.6892e-01, -7.3249e-02],\n",
       "        [ 3.8408e-01,  6.8299e-01],\n",
       "        [-6.8364e-01,  7.1417e-01],\n",
       "        [-5.7777e-01,  5.3652e-01],\n",
       "        [-8.3274e-01,  4.6625e-01],\n",
       "        [ 1.2448e-02,  9.8709e-01],\n",
       "        [ 1.0091e+00, -2.1970e-01],\n",
       "        [-6.6792e-01,  4.2861e-01],\n",
       "        [-8.4405e-01,  6.1718e-01],\n",
       "        [ 6.3680e-01,  7.4591e-01],\n",
       "        [ 8.9413e-01,  3.6390e-01],\n",
       "        [-2.3460e-01, -9.6400e-01],\n",
       "        [ 8.5954e-01, -5.2141e-01],\n",
       "        [-9.9219e-01, -2.4105e-01],\n",
       "        [-4.1551e-01, -6.2944e-01],\n",
       "        [ 6.1760e-01,  4.8042e-01],\n",
       "        [ 5.8574e-01,  8.0677e-01],\n",
       "        [-4.0456e-01,  8.5400e-01],\n",
       "        [ 7.6452e-02, -8.0826e-01],\n",
       "        [-5.0008e-01,  8.5193e-01],\n",
       "        [ 1.2241e-01,  7.8404e-01],\n",
       "        [-2.6291e-01,  8.2770e-01],\n",
       "        [-6.3312e-01, -5.0778e-01],\n",
       "        [-9.3577e-02, -8.1540e-01],\n",
       "        [-5.1338e-01, -6.1176e-01],\n",
       "        [-7.1409e-01,  3.9910e-01],\n",
       "        [-7.9809e-01, -1.3406e-01],\n",
       "        [ 3.9402e-01,  6.5127e-01],\n",
       "        [ 4.1756e-01, -8.8771e-01],\n",
       "        [-4.0692e-01,  9.1175e-01],\n",
       "        [ 1.9021e-01,  7.8895e-01],\n",
       "        [ 5.6068e-01, -7.6621e-01],\n",
       "        [-1.2281e-02,  1.0267e+00],\n",
       "        [ 4.8135e-02,  7.3526e-01],\n",
       "        [ 5.3791e-01, -6.4054e-01],\n",
       "        [-3.1400e-01,  9.4254e-01],\n",
       "        [-3.9246e-01,  9.4538e-01],\n",
       "        [ 8.9705e-01, -3.8877e-01],\n",
       "        [ 2.8498e-01, -9.3914e-01],\n",
       "        [ 7.3977e-01,  2.7837e-01],\n",
       "        [-3.1483e-01, -9.0407e-01],\n",
       "        [ 7.9454e-01,  1.7391e-01],\n",
       "        [-6.4249e-01, -5.4410e-01],\n",
       "        [-8.1017e-01,  1.6090e-01],\n",
       "        [-9.9131e-01,  1.4250e-01],\n",
       "        [ 5.0930e-01, -6.3249e-01],\n",
       "        [ 9.2801e-01,  3.0052e-01],\n",
       "        [-9.4528e-01,  1.5798e-01],\n",
       "        [-5.0055e-01, -6.4168e-01],\n",
       "        [-3.1061e-01,  7.2217e-01],\n",
       "        [-2.5632e-02,  8.0698e-01],\n",
       "        [ 7.8931e-01, -1.0671e-01],\n",
       "        [ 9.8588e-01, -5.9194e-02],\n",
       "        [ 2.0314e-01,  9.5268e-01],\n",
       "        [ 9.3176e-01, -1.5662e-01],\n",
       "        [ 7.0154e-01, -4.0423e-01],\n",
       "        [ 2.9318e-01,  9.7420e-01],\n",
       "        [-1.0037e+00,  3.4514e-02],\n",
       "        [-7.6777e-01, -1.5786e-01],\n",
       "        [ 8.3134e-01,  2.7151e-02],\n",
       "        [ 6.5743e-01, -4.2717e-01],\n",
       "        [-8.4568e-02, -7.5375e-01],\n",
       "        [ 7.4502e-01,  6.4114e-01],\n",
       "        [-5.8020e-01,  8.0711e-01],\n",
       "        [ 5.3192e-01,  6.7483e-01],\n",
       "        [-8.5203e-01,  4.7903e-01],\n",
       "        [-3.3371e-01,  6.7528e-01],\n",
       "        [ 9.3058e-01,  2.0099e-01],\n",
       "        [-1.0114e-01, -7.9698e-01],\n",
       "        [-7.9870e-01,  2.3489e-01],\n",
       "        [ 3.6098e-01,  7.4778e-01],\n",
       "        [ 6.7036e-01, -7.6750e-01],\n",
       "        [-5.7233e-01, -7.8755e-01],\n",
       "        [ 1.3100e-01, -9.6778e-01],\n",
       "        [ 1.0168e+00, -1.9641e-01],\n",
       "        [-7.6691e-01, -4.0098e-01],\n",
       "        [ 4.2766e-03, -7.8241e-01],\n",
       "        [-1.0949e-01, -7.0776e-01],\n",
       "        [ 3.0520e-01, -7.4828e-01],\n",
       "        [-6.1977e-01, -5.6858e-01],\n",
       "        [-6.8220e-01,  7.6503e-01],\n",
       "        [ 1.3728e-01,  7.3713e-01],\n",
       "        [-8.3808e-01, -2.7128e-02],\n",
       "        [-9.0551e-01,  4.9884e-01],\n",
       "        [ 1.4866e-01, -7.9557e-01],\n",
       "        [ 4.6043e-02,  1.0352e+00],\n",
       "        [-9.9004e-01, -3.3405e-01],\n",
       "        [ 2.9754e-01,  7.4607e-01],\n",
       "        [ 7.8853e-01,  1.8659e-01],\n",
       "        [-9.2612e-01,  3.0357e-01],\n",
       "        [ 2.4226e-02, -9.6521e-01],\n",
       "        [-1.4225e-01, -7.8481e-01],\n",
       "        [ 7.6974e-01,  6.6552e-01],\n",
       "        [-6.6340e-01, -6.7436e-01],\n",
       "        [ 7.2720e-01, -1.8326e-01],\n",
       "        [ 2.8635e-03,  7.6739e-01],\n",
       "        [-5.4140e-01,  5.8290e-01],\n",
       "        [ 4.1705e-01,  9.0613e-01],\n",
       "        [ 5.9724e-01, -5.6617e-01],\n",
       "        [ 8.6440e-01,  6.3642e-05],\n",
       "        [-2.4159e-01, -9.2864e-01],\n",
       "        [-3.4880e-01, -7.1487e-01],\n",
       "        [-7.7903e-01, -6.5524e-01],\n",
       "        [-2.6897e-01, -7.6311e-01],\n",
       "        [-1.2394e-01, -9.9453e-01],\n",
       "        [-7.5037e-01,  2.9836e-01],\n",
       "        [-7.9954e-02, -9.6022e-01],\n",
       "        [ 8.7777e-01, -4.2268e-01],\n",
       "        [-8.4016e-01,  1.9682e-01],\n",
       "        [ 8.0402e-01, -3.6161e-01],\n",
       "        [-3.5661e-01, -9.5476e-01],\n",
       "        [-6.7934e-01, -3.6538e-01],\n",
       "        [ 4.3668e-01,  6.6161e-01],\n",
       "        [-1.1885e-01,  9.3508e-01],\n",
       "        [ 6.1973e-01,  5.0656e-01],\n",
       "        [-8.4510e-01,  9.3658e-02],\n",
       "        [ 8.4287e-01,  5.1711e-01],\n",
       "        [-3.3846e-02, -7.9959e-01],\n",
       "        [ 2.4405e-01,  9.4413e-01],\n",
       "        [ 3.7005e-01,  9.2244e-01],\n",
       "        [ 9.0580e-01,  3.6319e-01],\n",
       "        [ 1.8300e-01, -7.8821e-01],\n",
       "        [-4.9447e-01, -8.8380e-01],\n",
       "        [-9.3699e-01,  1.9944e-01],\n",
       "        [ 3.5564e-01,  6.9226e-01],\n",
       "        [-8.3398e-01, -5.8157e-01],\n",
       "        [ 5.9128e-01,  8.2891e-01],\n",
       "        [-7.9202e-01,  6.0141e-01],\n",
       "        [-6.6540e-01, -3.8540e-01],\n",
       "        [-8.7422e-01, -5.4422e-01],\n",
       "        [ 1.5574e-01, -9.3352e-01],\n",
       "        [ 7.2629e-01,  3.6687e-01],\n",
       "        [-8.0930e-01, -5.8700e-01],\n",
       "        [ 4.4948e-01,  6.6618e-01],\n",
       "        [-2.4310e-01,  9.5627e-01],\n",
       "        [ 7.3922e-01, -3.4567e-01],\n",
       "        [ 7.0374e-01,  6.8430e-01],\n",
       "        [-7.8899e-01, -1.4147e-01],\n",
       "        [-9.4381e-01, -2.3362e-01],\n",
       "        [ 7.7500e-01, -1.0640e-01],\n",
       "        [ 2.7408e-01,  7.1238e-01],\n",
       "        [ 5.2523e-01,  6.0852e-01],\n",
       "        [-8.3100e-01, -5.4516e-01],\n",
       "        [-7.6043e-01, -5.7961e-01],\n",
       "        [-8.6109e-01, -1.3236e-01],\n",
       "        [-3.3663e-01,  9.2273e-01],\n",
       "        [ 7.6619e-01, -1.2609e-01],\n",
       "        [-3.8241e-01, -7.4745e-01],\n",
       "        [-6.8210e-01,  6.3249e-01],\n",
       "        [ 3.4823e-01,  7.4958e-01],\n",
       "        [ 4.9753e-01, -7.9935e-01],\n",
       "        [ 9.4955e-01,  7.8745e-02],\n",
       "        [-7.2747e-01, -5.8404e-01],\n",
       "        [ 7.3663e-01, -5.9603e-01],\n",
       "        [ 2.9816e-01,  7.5665e-01],\n",
       "        [ 4.3092e-01,  7.1227e-01],\n",
       "        [ 3.1289e-01,  7.7556e-01],\n",
       "        [ 7.6598e-01,  2.9169e-01],\n",
       "        [ 8.4734e-01, -3.7199e-01],\n",
       "        [ 8.6962e-01,  5.2093e-01],\n",
       "        [ 7.9319e-01, -5.7693e-01],\n",
       "        [ 2.1799e-01, -9.5147e-01],\n",
       "        [ 9.5135e-01,  5.4619e-02],\n",
       "        [ 4.1871e-01,  6.8428e-01],\n",
       "        [ 2.9845e-01, -9.8332e-01],\n",
       "        [ 5.4103e-01, -7.9646e-01],\n",
       "        [-8.0138e-01, -3.4400e-02],\n",
       "        [ 5.7683e-01,  8.3338e-01],\n",
       "        [-4.4089e-01, -6.9288e-01],\n",
       "        [-7.9097e-01,  2.5675e-01],\n",
       "        [-9.3501e-01,  3.9425e-01],\n",
       "        [-1.0505e-01,  1.0160e+00],\n",
       "        [ 9.0662e-01,  3.1795e-01],\n",
       "        [-1.5752e-01,  7.6328e-01],\n",
       "        [ 4.1195e-01, -7.0412e-01],\n",
       "        [-1.0017e+00,  6.9265e-02],\n",
       "        [-6.6671e-01, -3.9872e-01],\n",
       "        [ 4.2914e-01,  7.1303e-01],\n",
       "        [ 5.8539e-01,  8.2031e-01],\n",
       "        [-4.5901e-01, -6.7947e-01],\n",
       "        [ 7.6578e-01,  5.9670e-01],\n",
       "        [-7.4380e-01,  2.5225e-01],\n",
       "        [ 9.5728e-01, -7.2273e-02],\n",
       "        [-6.7386e-01,  4.2015e-01],\n",
       "        [ 2.9960e-01,  7.7246e-01]], device='cuda:0')"
      ]
     },
     "execution_count": 156,
     "metadata": {},
     "output_type": "execute_result"
    }
   ],
   "source": [
    "X_test"
   ]
  },
  {
   "cell_type": "code",
   "execution_count": 107,
   "metadata": {},
   "outputs": [],
   "source": [
    "model_0 = ModuleArchitecture().to(device)\n",
    "\n",
    "model_0.state_dict()\n",
    "\n",
    "with torch.inference_mode():\n",
    "    y_logits=model_0(X_train.to(device))"
   ]
  },
  {
   "cell_type": "code",
   "execution_count": 92,
   "metadata": {},
   "outputs": [],
   "source": [
    "y_pred = torch.round(torch.sigmoid(y_logits))"
   ]
  },
  {
   "cell_type": "code",
   "execution_count": 93,
   "metadata": {},
   "outputs": [
    {
     "data": {
      "text/plain": [
       "tensor([[ 0.6579, -0.4651],\n",
       "        [ 0.6319, -0.7347],\n",
       "        [-1.0086, -0.1240],\n",
       "        ...,\n",
       "        [ 0.0157, -1.0300],\n",
       "        [ 1.0110,  0.1680],\n",
       "        [ 0.5578, -0.5709]], device='cuda:0')"
      ]
     },
     "execution_count": 93,
     "metadata": {},
     "output_type": "execute_result"
    }
   ],
   "source": [
    "X_train"
   ]
  },
  {
   "cell_type": "code",
   "execution_count": null,
   "metadata": {},
   "outputs": [],
   "source": []
  },
  {
   "cell_type": "code",
   "execution_count": 37,
   "metadata": {},
   "outputs": [],
   "source": [
    "\n",
    "#loss function \n",
    "loss_fn = torch.nn.BCEWithLogitsLoss()\n",
    "\n",
    "#optimizer\n",
    "optimizer = torch.optim.SGD(params=model_0.parameters(),lr=0.1)"
   ]
  },
  {
   "cell_type": "code",
   "execution_count": 38,
   "metadata": {},
   "outputs": [],
   "source": [
    "def accuracy_fn(y_true,y_pred):\n",
    "    correct = torch.eq(y_true,y_pred).sum().item()\n",
    "    acc = (correct/len(y_true))*100\n",
    "    return acc"
   ]
  },
  {
   "cell_type": "code",
   "execution_count": 40,
   "metadata": {},
   "outputs": [
    {
     "name": "stdout",
     "output_type": "stream",
     "text": [
      "epoch: 0, training loss:0.4952050447463989, testing loss:0.49691295623779297, training acc:70.99056603773585,testing acc:70.28301886792453\n",
      "epoch: 10, training loss:0.49672192335128784, testing loss:0.49834340810775757, training acc:72.75943396226415,testing acc:70.75471698113208\n",
      "epoch: 20, training loss:0.5026249885559082, testing loss:0.5044872164726257, training acc:73.82075471698113,testing acc:73.11320754716981\n",
      "epoch: 30, training loss:0.5047711133956909, testing loss:0.5055997967720032, training acc:74.1745283018868,testing acc:73.34905660377359\n",
      "epoch: 40, training loss:0.49883008003234863, testing loss:0.49944308400154114, training acc:73.76179245283019,testing acc:71.69811320754717\n",
      "epoch: 50, training loss:0.49505478143692017, testing loss:0.49618199467658997, training acc:72.75943396226415,testing acc:69.5754716981132\n",
      "epoch: 60, training loss:0.4935332238674164, testing loss:0.4949690103530884, training acc:71.99292452830188,testing acc:70.28301886792453\n",
      "epoch: 70, training loss:0.4927004873752594, testing loss:0.494266152381897, training acc:71.63915094339622,testing acc:70.75471698113208\n",
      "epoch: 80, training loss:0.49222028255462646, testing loss:0.4937962591648102, training acc:71.75707547169812,testing acc:70.75471698113208\n",
      "epoch: 90, training loss:0.4920313060283661, testing loss:0.49352869391441345, training acc:72.2877358490566,testing acc:70.51886792452831\n",
      "epoch: 100, training loss:0.49231693148612976, testing loss:0.4936952590942383, training acc:72.81839622641509,testing acc:70.04716981132076\n",
      "epoch: 110, training loss:0.49379393458366394, testing loss:0.4951774775981903, training acc:73.76179245283019,testing acc:70.75471698113208\n",
      "epoch: 120, training loss:0.4988517761230469, testing loss:0.5006750822067261, training acc:74.29245283018868,testing acc:72.87735849056604\n",
      "epoch: 130, training loss:0.5012637972831726, testing loss:0.5019736289978027, training acc:74.88207547169812,testing acc:73.34905660377359\n",
      "epoch: 140, training loss:0.4937414526939392, testing loss:0.49411794543266296, training acc:73.82075471698113,testing acc:70.99056603773585\n",
      "epoch: 150, training loss:0.4892992675304413, testing loss:0.4904748797416687, training acc:72.75943396226415,testing acc:70.75471698113208\n",
      "epoch: 160, training loss:0.4876735806465149, testing loss:0.4892283082008362, training acc:72.34669811320755,testing acc:70.04716981132076\n",
      "epoch: 170, training loss:0.4867705702781677, testing loss:0.48850739002227783, training acc:72.05188679245283,testing acc:70.51886792452831\n",
      "epoch: 180, training loss:0.48608651757240295, testing loss:0.48781082034111023, training acc:72.34669811320755,testing acc:70.51886792452831\n",
      "epoch: 190, training loss:0.4861499071121216, testing loss:0.48773670196533203, training acc:73.05424528301887,testing acc:70.75471698113208\n",
      "epoch: 200, training loss:0.49488845467567444, testing loss:0.49854645133018494, training acc:75.05896226415094,testing acc:73.11320754716981\n",
      "epoch: 210, training loss:0.5126141309738159, testing loss:0.5137044191360474, training acc:75.11792452830188,testing acc:70.28301886792453\n",
      "epoch: 220, training loss:0.4870764911174774, testing loss:0.48729419708251953, training acc:74.23349056603774,testing acc:70.75471698113208\n",
      "epoch: 230, training loss:0.4829505383968353, testing loss:0.4846113622188568, training acc:72.93632075471697,testing acc:70.51886792452831\n",
      "epoch: 240, training loss:0.48190391063690186, testing loss:0.4836273193359375, training acc:72.81839622641509,testing acc:70.28301886792453\n",
      "epoch: 250, training loss:0.48230066895484924, testing loss:0.4838230311870575, training acc:73.87971698113208,testing acc:70.99056603773585\n",
      "epoch: 260, training loss:0.49079445004463196, testing loss:0.4936656653881073, training acc:74.64622641509435,testing acc:71.93396226415094\n",
      "epoch: 270, training loss:0.4994695782661438, testing loss:0.5006310939788818, training acc:75.0,testing acc:73.11320754716981\n",
      "epoch: 280, training loss:0.48384663462638855, testing loss:0.48395150899887085, training acc:74.88207547169812,testing acc:70.51886792452831\n",
      "epoch: 290, training loss:0.47959792613983154, testing loss:0.4807005822658539, training acc:74.41037735849056,testing acc:70.04716981132076\n",
      "epoch: 300, training loss:0.4815678596496582, testing loss:0.4829907715320587, training acc:74.94103773584906,testing acc:70.28301886792453\n",
      "epoch: 310, training loss:0.48848119378089905, testing loss:0.490121454000473, training acc:74.76415094339622,testing acc:71.93396226415094\n",
      "epoch: 320, training loss:0.4853399097919464, testing loss:0.485809326171875, training acc:74.76415094339622,testing acc:70.99056603773585\n",
      "epoch: 330, training loss:0.4815591275691986, testing loss:0.4823440909385681, training acc:74.5872641509434,testing acc:70.04716981132076\n",
      "epoch: 340, training loss:0.48342403769493103, testing loss:0.4844789505004883, training acc:75.05896226415094,testing acc:70.99056603773585\n",
      "epoch: 350, training loss:0.48292773962020874, testing loss:0.4837079644203186, training acc:75.11792452830188,testing acc:70.75471698113208\n",
      "epoch: 360, training loss:0.4822281002998352, testing loss:0.4830314517021179, training acc:75.11792452830188,testing acc:70.75471698113208\n",
      "epoch: 370, training loss:0.4817799925804138, testing loss:0.48245900869369507, training acc:75.35377358490565,testing acc:70.75471698113208\n",
      "epoch: 380, training loss:0.4811187982559204, testing loss:0.48159676790237427, training acc:75.4127358490566,testing acc:70.51886792452831\n",
      "epoch: 390, training loss:0.4806843101978302, testing loss:0.4813064932823181, training acc:75.64858490566037,testing acc:70.51886792452831\n",
      "epoch: 400, training loss:0.47996437549591064, testing loss:0.4804491698741913, training acc:75.94339622641509,testing acc:70.28301886792453\n",
      "epoch: 410, training loss:0.4776827096939087, testing loss:0.47793787717819214, training acc:75.94339622641509,testing acc:70.28301886792453\n",
      "epoch: 420, training loss:0.4782358705997467, testing loss:0.4785629212856293, training acc:76.06132075471697,testing acc:70.04716981132076\n",
      "epoch: 430, training loss:0.4780566692352295, testing loss:0.4783174693584442, training acc:76.12028301886792,testing acc:70.28301886792453\n",
      "epoch: 440, training loss:0.47702229022979736, testing loss:0.47703272104263306, training acc:76.23820754716981,testing acc:69.81132075471697\n",
      "epoch: 450, training loss:0.4761675000190735, testing loss:0.47640934586524963, training acc:76.23820754716981,testing acc:70.28301886792453\n",
      "epoch: 460, training loss:0.47547683119773865, testing loss:0.4755313992500305, training acc:76.23820754716981,testing acc:70.28301886792453\n",
      "epoch: 470, training loss:0.4754708707332611, testing loss:0.4753240942955017, training acc:76.23820754716981,testing acc:70.28301886792453\n",
      "epoch: 480, training loss:0.47463124990463257, testing loss:0.47437959909439087, training acc:76.29716981132076,testing acc:70.04716981132076\n",
      "epoch: 490, training loss:0.47371333837509155, testing loss:0.4733315408229828, training acc:76.35613207547169,testing acc:70.51886792452831\n",
      "epoch: 500, training loss:0.4725536108016968, testing loss:0.47198471426963806, training acc:76.29716981132076,testing acc:70.51886792452831\n",
      "epoch: 510, training loss:0.4725978970527649, testing loss:0.4717751443386078, training acc:76.47405660377359,testing acc:70.28301886792453\n",
      "epoch: 520, training loss:0.47199442982673645, testing loss:0.4707341492176056, training acc:76.53301886792453,testing acc:70.28301886792453\n",
      "epoch: 530, training loss:0.46896758675575256, testing loss:0.46778157353401184, training acc:76.53301886792453,testing acc:70.51886792452831\n",
      "epoch: 540, training loss:0.4699426293373108, testing loss:0.46903350949287415, training acc:76.59198113207547,testing acc:70.51886792452831\n",
      "epoch: 550, training loss:0.47003883123397827, testing loss:0.4686090350151062, training acc:76.47405660377359,testing acc:70.51886792452831\n",
      "epoch: 560, training loss:0.4671342372894287, testing loss:0.465462327003479, training acc:76.47405660377359,testing acc:70.75471698113208\n",
      "epoch: 570, training loss:0.4660138189792633, testing loss:0.464423269033432, training acc:76.53301886792453,testing acc:70.51886792452831\n",
      "epoch: 580, training loss:0.4664739966392517, testing loss:0.4646926522254944, training acc:76.53301886792453,testing acc:70.75471698113208\n",
      "epoch: 590, training loss:0.4661101698875427, testing loss:0.4637606739997864, training acc:76.41509433962264,testing acc:70.51886792452831\n",
      "epoch: 600, training loss:0.4654284119606018, testing loss:0.4629475176334381, training acc:76.41509433962264,testing acc:70.28301886792453\n",
      "epoch: 610, training loss:0.46487584710121155, testing loss:0.46199554204940796, training acc:76.47405660377359,testing acc:70.75471698113208\n",
      "epoch: 620, training loss:0.4627160131931305, testing loss:0.4599820077419281, training acc:76.47405660377359,testing acc:73.58490566037736\n",
      "epoch: 630, training loss:0.4635820984840393, testing loss:0.4608507454395294, training acc:76.29716981132076,testing acc:71.4622641509434\n",
      "epoch: 640, training loss:0.4633809030056, testing loss:0.46027421951293945, training acc:76.29716981132076,testing acc:71.93396226415094\n",
      "epoch: 650, training loss:0.46055594086647034, testing loss:0.45854276418685913, training acc:76.41509433962264,testing acc:73.34905660377359\n",
      "epoch: 660, training loss:0.4578893482685089, testing loss:0.4567375183105469, training acc:76.41509433962264,testing acc:78.06603773584906\n",
      "epoch: 670, training loss:0.4590913951396942, testing loss:0.4571869969367981, training acc:76.29716981132076,testing acc:76.17924528301887\n",
      "epoch: 680, training loss:0.4593985974788666, testing loss:0.45774906873703003, training acc:76.06132075471697,testing acc:77.59433962264151\n",
      "epoch: 690, training loss:0.4538816213607788, testing loss:0.4517825245857239, training acc:76.23820754716981,testing acc:75.47169811320755\n",
      "epoch: 700, training loss:0.45401784777641296, testing loss:0.4531913101673126, training acc:76.23820754716981,testing acc:80.18867924528303\n",
      "epoch: 710, training loss:0.4543730616569519, testing loss:0.4516695439815521, training acc:76.00235849056604,testing acc:80.66037735849056\n",
      "epoch: 720, training loss:0.4503166675567627, testing loss:0.44860008358955383, training acc:76.06132075471697,testing acc:88.91509433962264\n",
      "epoch: 730, training loss:0.4433319568634033, testing loss:0.4423189163208008, training acc:76.12028301886792,testing acc:89.85849056603774\n",
      "epoch: 740, training loss:0.44867074489593506, testing loss:0.4487099051475525, training acc:75.76650943396226,testing acc:76.65094339622641\n",
      "epoch: 750, training loss:0.4314824640750885, testing loss:0.43330156803131104, training acc:76.12028301886792,testing acc:81.83962264150944\n",
      "epoch: 760, training loss:0.4219745695590973, testing loss:0.43429282307624817, training acc:75.8254716981132,testing acc:78.5377358490566\n",
      "epoch: 770, training loss:0.4029044210910797, testing loss:0.4154709577560425, training acc:76.06132075471697,testing acc:82.0754716981132\n",
      "epoch: 780, training loss:0.36865103244781494, testing loss:0.37769821286201477, training acc:76.53301886792453,testing acc:89.38679245283019\n",
      "epoch: 790, training loss:0.32038864493370056, testing loss:0.3257598876953125, training acc:76.76886792452831,testing acc:91.27358490566037\n",
      "epoch: 800, training loss:0.2809159755706787, testing loss:0.3054123818874359, training acc:87.38207547169812,testing acc:85.84905660377359\n",
      "epoch: 810, training loss:0.06077658385038376, testing loss:0.06563159823417664, training acc:99.82311320754717,testing acc:99.29245283018868\n",
      "epoch: 820, training loss:0.033562105149030685, testing loss:0.03950131684541702, training acc:99.76415094339622,testing acc:99.29245283018868\n",
      "epoch: 830, training loss:0.023320550099015236, testing loss:0.02888401597738266, training acc:99.82311320754717,testing acc:99.29245283018868\n",
      "epoch: 840, training loss:0.018083984032273293, testing loss:0.023295888677239418, training acc:99.94103773584906,testing acc:99.29245283018868\n",
      "epoch: 850, training loss:0.014833824709057808, testing loss:0.019939972087740898, training acc:100.0,testing acc:99.29245283018868\n",
      "epoch: 860, training loss:0.012639886699616909, testing loss:0.017665261402726173, training acc:100.0,testing acc:99.52830188679245\n",
      "epoch: 870, training loss:0.011066596955060959, testing loss:0.015956996008753777, training acc:100.0,testing acc:99.52830188679245\n",
      "epoch: 880, training loss:0.009899420663714409, testing loss:0.01466967724263668, training acc:100.0,testing acc:99.52830188679245\n",
      "epoch: 890, training loss:0.009003651328384876, testing loss:0.013661639764904976, training acc:100.0,testing acc:99.52830188679245\n",
      "epoch: 900, training loss:0.008243024349212646, testing loss:0.012771298177540302, training acc:100.0,testing acc:99.52830188679245\n",
      "epoch: 910, training loss:0.007612710818648338, testing loss:0.012073707766830921, training acc:100.0,testing acc:99.52830188679245\n",
      "epoch: 920, training loss:0.0070807901211082935, testing loss:0.01150120422244072, training acc:100.0,testing acc:99.52830188679245\n",
      "epoch: 930, training loss:0.006640992127358913, testing loss:0.01101716049015522, training acc:100.0,testing acc:99.52830188679245\n",
      "epoch: 940, training loss:0.006260893307626247, testing loss:0.010592209175229073, training acc:100.0,testing acc:99.52830188679245\n",
      "epoch: 950, training loss:0.005926406476646662, testing loss:0.010231184773147106, training acc:100.0,testing acc:99.52830188679245\n",
      "epoch: 960, training loss:0.005628903396427631, testing loss:0.00991866085678339, training acc:100.0,testing acc:99.52830188679245\n",
      "epoch: 970, training loss:0.005362055730074644, testing loss:0.009659542702138424, training acc:100.0,testing acc:99.52830188679245\n",
      "epoch: 980, training loss:0.005121537018567324, testing loss:0.009412458166480064, training acc:100.0,testing acc:99.52830188679245\n",
      "epoch: 990, training loss:0.0049027265049517155, testing loss:0.009183675050735474, training acc:100.0,testing acc:99.52830188679245\n"
     ]
    }
   ],
   "source": [
    "epochs = 1000\n",
    "\n",
    "for epoch in range(epochs):\n",
    "\n",
    "    model_0.train()\n",
    "\n",
    "    train_logits=model_0(X_train).squeeze()\n",
    "    train_pred = torch.round(torch.sigmoid(train_logits))\n",
    "\n",
    "\n",
    "    train_loss = loss_fn(train_logits,y_train)\n",
    "    train_acc = accuracy_fn(y_train,train_pred)\n",
    "\n",
    "    optimizer.zero_grad()\n",
    "\n",
    "    train_loss.backward()\n",
    "\n",
    "    optimizer.step()\n",
    "\n",
    "    model_0.eval()\n",
    "\n",
    "    with torch.inference_mode():\n",
    "\n",
    "        test_logits=model_0(X_test).squeeze()\n",
    "        test_pred = torch.round(torch.sigmoid(test_logits))\n",
    "\n",
    "        test_loss = loss_fn(test_logits,y_test)\n",
    "        test_acc = accuracy_fn(y_test,test_pred)\n",
    "\n",
    "    if epoch % 10 == 0 :\n",
    "        print(f'epoch: {epoch}, training loss:{train_loss}, testing loss:{test_loss}, training acc:{train_acc},testing acc:{test_acc}')\n"
   ]
  },
  {
   "cell_type": "code",
   "execution_count": 20,
   "metadata": {},
   "outputs": [],
   "source": [
    "def plot_decision_boundary(model: torch.nn.Module, X: torch.Tensor, y: torch.Tensor):\n",
    "    \"\"\"Plots decision boundaries of model predicting on X in comparison to y.\n",
    "\n",
    "    Source - https://madewithml.com/courses/foundations/neural-networks/ (with modifications)\n",
    "    \"\"\"\n",
    "    # Put everything to CPU (works better with NumPy + Matplotlib)\n",
    "    model.to(\"cpu\")\n",
    "    X, y = X.to(\"cpu\"), y.to(\"cpu\")\n",
    "\n",
    "    # Setup prediction boundaries and grid\n",
    "    x_min, x_max = X[:, 0].min() - 0.1, X[:, 0].max() + 0.1\n",
    "    y_min, y_max = X[:, 1].min() - 0.1, X[:, 1].max() + 0.1\n",
    "    xx, yy = np.meshgrid(np.linspace(x_min, x_max, 101), np.linspace(y_min, y_max, 101))\n",
    "\n",
    "    # Make features\n",
    "    X_to_pred_on = torch.from_numpy(np.column_stack((xx.ravel(), yy.ravel()))).float()\n",
    "\n",
    "    # Make predictions\n",
    "    model.eval()\n",
    "    with torch.inference_mode():\n",
    "        y_logits = model(X_to_pred_on)\n",
    "\n",
    "    # Test for multi-class or binary and adjust logits to prediction labels\n",
    "    if len(torch.unique(y)) > 2:\n",
    "        y_pred = torch.softmax(y_logits, dim=1).argmax(dim=1)  # mutli-class\n",
    "    else:\n",
    "        y_pred = torch.round(torch.sigmoid(y_logits))  # binary\n",
    "\n",
    "    # Reshape preds and plot\n",
    "    y_pred = y_pred.reshape(xx.shape).detach().numpy()\n",
    "    plt.contourf(xx, yy, y_pred, cmap=plt.cm.RdYlBu, alpha=0.7)\n",
    "    plt.scatter(X[:, 0], X[:, 1], c=y, s=40, cmap=plt.cm.RdYlBu)\n",
    "    plt.xlim(xx.min(), xx.max())\n",
    "    plt.ylim(yy.min(), yy.max())"
   ]
  },
  {
   "cell_type": "code",
   "execution_count": 41,
   "metadata": {},
   "outputs": [
    {
     "data": {
      "image/png": "[encoded data removed]",
      "text/plain": [
       "<Figure size 640x480 with 1 Axes>"
      ]
     },
     "metadata": {},
     "output_type": "display_data"
    }
   ],
   "source": [
    "model_1=model_0\n",
    "plot_decision_boundary(model_1,X_train,y_train)"
   ]
  },
  {
   "cell_type": "code",
   "execution_count": 113,
   "metadata": {},
   "outputs": [
    {
     "name": "stdout",
     "output_type": "stream",
     "text": [
      "CircleModelV2(\n",
      "  (layer_1): Linear(in_features=2, out_features=10, bias=True)\n",
      "  (layer_2): Linear(in_features=10, out_features=10, bias=True)\n",
      "  (layer_3): Linear(in_features=10, out_features=1, bias=True)\n",
      "  (relu): ReLU()\n",
      ")\n"
     ]
    }
   ],
   "source": [
    "# Build model with non-linear activation function\n",
    "from torch import nn\n",
    "class CircleModelV2(nn.Module):\n",
    "    def __init__(self):\n",
    "        super().__init__()\n",
    "        self.layer_1 = nn.Linear(in_features=2, out_features=10)\n",
    "        self.layer_2 = nn.Linear(in_features=10, out_features=10)\n",
    "        self.layer_3 = nn.Linear(in_features=10, out_features=1)\n",
    "        self.relu = nn.ReLU() # <- add in ReLU activation function\n",
    "        # Can also put sigmoid in the model \n",
    "        # This would mean you don't need to use it on the predictions\n",
    "        # self.sigmoid = nn.Sigmoid()\n",
    "\n",
    "    def forward(self, x):\n",
    "      # Intersperse the ReLU activation function between layers\n",
    "       return self.layer_3(self.relu(self.layer_2(self.relu(self.layer_1(x)))))\n",
    "\n",
    "model_3 = CircleModelV2().to(device)\n",
    "print(model_3)"
   ]
  },
  {
   "cell_type": "code",
   "execution_count": 114,
   "metadata": {},
   "outputs": [],
   "source": [
    "# Setup loss and optimizer \n",
    "loss_fn = nn.BCEWithLogitsLoss()\n",
    "optimizer = torch.optim.SGD(model_3.parameters(), lr=0.1)"
   ]
  },
  {
   "cell_type": "code",
   "execution_count": 116,
   "metadata": {},
   "outputs": [
    {
     "name": "stdout",
     "output_type": "stream",
     "text": [
      "Epoch: 0 | Loss: 0.56818, Accuracy: 87.75% | Test Loss: 0.57378, Test Accuracy: 86.50%\n",
      "Epoch: 100 | Loss: 0.48153, Accuracy: 93.50% | Test Loss: 0.49935, Test Accuracy: 90.50%\n",
      "Epoch: 200 | Loss: 0.37056, Accuracy: 97.75% | Test Loss: 0.40595, Test Accuracy: 92.00%\n",
      "Epoch: 300 | Loss: 0.25458, Accuracy: 99.00% | Test Loss: 0.30333, Test Accuracy: 96.50%\n",
      "Epoch: 400 | Loss: 0.17180, Accuracy: 99.50% | Test Loss: 0.22108, Test Accuracy: 97.50%\n",
      "Epoch: 500 | Loss: 0.12188, Accuracy: 99.62% | Test Loss: 0.16512, Test Accuracy: 99.00%\n",
      "Epoch: 600 | Loss: 0.09123, Accuracy: 99.88% | Test Loss: 0.12741, Test Accuracy: 99.50%\n",
      "Epoch: 700 | Loss: 0.07100, Accuracy: 99.88% | Test Loss: 0.10319, Test Accuracy: 99.50%\n",
      "Epoch: 800 | Loss: 0.05773, Accuracy: 99.88% | Test Loss: 0.08672, Test Accuracy: 99.50%\n",
      "Epoch: 900 | Loss: 0.04853, Accuracy: 99.88% | Test Loss: 0.07474, Test Accuracy: 99.50%\n"
     ]
    }
   ],
   "source": [
    "# Fit the model\n",
    "torch.manual_seed(42)\n",
    "epochs = 1000\n",
    "\n",
    "# Put all data on target device\n",
    "X_train, y_train = X_train.to(device), y_train.to(device)\n",
    "X_test, y_test = X_test.to(device), y_test.to(device)\n",
    "\n",
    "for epoch in range(epochs):\n",
    "    # 1. Forward pass\n",
    "    y_logits = model_3(X_train).squeeze()\n",
    "    y_pred = torch.round(torch.sigmoid(y_logits)) # logits -> prediction probabilities -> prediction labels\n",
    "    \n",
    "    # 2. Calculate loss and accuracy\n",
    "    loss = loss_fn(y_logits, y_train) # BCEWithLogitsLoss calculates loss using logits\n",
    "    acc = accuracy_fn(y_true=y_train, \n",
    "                      y_pred=y_pred)\n",
    "    \n",
    "    # 3. Optimizer zero grad\n",
    "    optimizer.zero_grad()\n",
    "\n",
    "    # 4. Loss backward\n",
    "    loss.backward()\n",
    "\n",
    "    # 5. Optimizer step\n",
    "    optimizer.step()\n",
    "\n",
    "    ### Testing\n",
    "    model_3.eval()\n",
    "    with torch.inference_mode():\n",
    "      # 1. Forward pass\n",
    "      test_logits = model_3(X_test).squeeze()\n",
    "      test_pred = torch.round(torch.sigmoid(test_logits)) # logits -> prediction probabilities -> prediction labels\n",
    "      # 2. Calcuate loss and accuracy\n",
    "      test_loss = loss_fn(test_logits, y_test)\n",
    "      test_acc = accuracy_fn(y_true=y_test,\n",
    "                             y_pred=test_pred)\n",
    "\n",
    "    # Print out what's happening\n",
    "    if epoch % 100 == 0:\n",
    "        print(f\"Epoch: {epoch} | Loss: {loss:.5f}, Accuracy: {acc:.2f}% | Test Loss: {test_loss:.5f}, Test Accuracy: {test_acc:.2f}%\")"
   ]
  },
  {
   "cell_type": "code",
   "execution_count": 18,
   "metadata": {},
   "outputs": [
    {
     "data": {
      "text/plain": [
       "<matplotlib.collections.PathCollection at 0x18e086c39d0>"
      ]
     },
     "execution_count": 18,
     "metadata": {},
     "output_type": "execute_result"
    },
    {
     "data": {
      "image/png": "[encoded data removed]",
      "text/plain": [
       "<Figure size 640x480 with 1 Axes>"
      ]
     },
     "metadata": {},
     "output_type": "display_data"
    }
   ],
   "source": [
    "plt.scatter(data_df['X'],data_df['Y'],c=data_df['Color Class'])"
   ]
  },
  {
   "cell_type": "code",
   "execution_count": null,
   "metadata": {},
   "outputs": [],
   "source": []
  }
 ],
 "metadata": {
  "kernelspec": {
   "display_name": "Python 3",
   "language": "python",
   "name": "python3"
  },
  "language_info": {
   "codemirror_mode": {
    "name": "ipython",
    "version": 3
   },
   "file_extension": ".py",
   "mimetype": "text/x-python",
   "name": "python",
   "nbconvert_exporter": "python",
   "pygments_lexer": "ipython3",
   "version": "3.8.5"
  },
  "orig_nbformat": 4
 },
 "nbformat": 4,
 "nbformat_minor": 2
}
